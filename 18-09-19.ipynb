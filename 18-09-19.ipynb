{
 "cells": [
  {
   "cell_type": "markdown",
   "metadata": {},
   "source": [
    "# Match sticks problems"
   ]
  },
  {
   "cell_type": "code",
   "execution_count": 12,
   "metadata": {},
   "outputs": [
    {
     "name": "stdout",
     "output_type": "stream",
     "text": [
      "enter the value143\n",
      "11\n"
     ]
    }
   ],
   "source": [
    "d={0:6,1:2,2:5,3:5,4:4,5:5,6:6,7:3,8:7,9:6}\n",
    "n=input(\"enter the value\")\n",
    "c=0\n",
    "for i in n:\n",
    "     c=c+d[int(i)]\n",
    "print(c)"
   ]
  },
  {
   "cell_type": "markdown",
   "metadata": {},
   "source": [
    "## maze problem(dict)"
   ]
  },
  {
   "cell_type": "code",
   "execution_count": 26,
   "metadata": {},
   "outputs": [
    {
     "name": "stdout",
     "output_type": "stream",
     "text": [
      "lll\n",
      "-3 , -1\n"
     ]
    }
   ],
   "source": [
    "d={\"l\":-1,\"r\":1,\"u\":1,\"d\":-1}\n",
    "n=input()\n",
    "c=0\n",
    "l=0\n",
    "for i in n:\n",
    "    d[(i)]\n",
    "    if i==\"l\" or i==\"r\":\n",
    "        c=c+d[(i)]\n",
    "else:\n",
    "    l=l+d[i]\n",
    "print(c,\",\",l)"
   ]
  },
  {
   "cell_type": "markdown",
   "metadata": {},
   "source": [
    "## maze problem"
   ]
  },
  {
   "cell_type": "code",
   "execution_count": 29,
   "metadata": {},
   "outputs": [
    {
     "name": "stdout",
     "output_type": "stream",
     "text": [
      "llluuurd\n",
      "1 2\n"
     ]
    }
   ],
   "source": [
    "n=input()\n",
    "x=0\n",
    "y=0\n",
    "for i in n:\n",
    "    if i=='1':\n",
    "        x=x-1\n",
    "    elif i=='r':\n",
    "        x=x+1\n",
    "    elif i=='u':\n",
    "        y=y+1\n",
    "    elif i=='d':\n",
    "        y=y-1\n",
    "print(x,y)"
   ]
  },
  {
   "cell_type": "markdown",
   "metadata": {},
   "source": [
    "# files in python"
   ]
  },
  {
   "cell_type": "code",
   "execution_count": 4,
   "metadata": {},
   "outputs": [],
   "source": [
    "filePath=\"./files/mani.txt\"\n",
    "with open(filePath,'w') as f:\n",
    "    f.write(\"this is mani gopal\")"
   ]
  },
  {
   "cell_type": "code",
   "execution_count": null,
   "metadata": {},
   "outputs": [],
   "source": []
  }
 ],
 "metadata": {
  "kernelspec": {
   "display_name": "Python 3",
   "language": "python",
   "name": "python3"
  },
  "language_info": {
   "codemirror_mode": {
    "name": "ipython",
    "version": 3
   },
   "file_extension": ".py",
   "mimetype": "text/x-python",
   "name": "python",
   "nbconvert_exporter": "python",
   "pygments_lexer": "ipython3",
   "version": "3.7.3"
  }
 },
 "nbformat": 4,
 "nbformat_minor": 2
}
