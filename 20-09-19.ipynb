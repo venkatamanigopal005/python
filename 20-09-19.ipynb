{
 "cells": [
  {
   "cell_type": "markdown",
   "metadata": {},
   "source": [
    "## seven segment problem"
   ]
  },
  {
   "cell_type": "code",
   "execution_count": 7,
   "metadata": {},
   "outputs": [
    {
     "name": "stdout",
     "output_type": "stream",
     "text": [
      "2\n",
      "5\n",
      "71111\n"
     ]
    }
   ],
   "source": [
    "d={0:6,1:2,2:5,3:5,4:4,5:5,6:6,7:3,8:7,9:6}\n",
    "n=(input())\n",
    "c=0\n",
    "for i in n:\n",
    "    c=c+d[int(i)]\n",
    "print(c)\n",
    "n=int(n)\n",
    "if c%2==0:\n",
    "    print(\"1\"*c)\n",
    "else:\n",
    "    print(\"7\"+\"1\"*(c-1))"
   ]
  },
  {
   "cell_type": "code",
   "execution_count": 8,
   "metadata": {},
   "outputs": [
    {
     "name": "stdout",
     "output_type": "stream",
     "text": [
      "7\n",
      "3\n",
      "7\n"
     ]
    }
   ],
   "source": [
    "d={0:6,1:2,2:5,3:5,4:4,5:5,6:6,7:3,8:7,9:6}\n",
    "n=(input())\n",
    "c=0\n",
    "for i in n:\n",
    "    c=c+d[int(i)]\n",
    "print(c)\n",
    "if c%2==0:\n",
    "    print(\"1\"*(c//2))\n",
    "else:\n",
    "    print(\"7\"+\"1\"*((c//2)-1))"
   ]
  },
  {
   "cell_type": "markdown",
   "metadata": {},
   "source": [
    "## find legal num r not"
   ]
  },
  {
   "cell_type": "code",
   "execution_count": 3,
   "metadata": {},
   "outputs": [
    {
     "name": "stdout",
     "output_type": "stream",
     "text": [
      "0987654321\n",
      "210\n",
      "illegal\n"
     ]
    }
   ],
   "source": [
    "k=input()\n",
    "sum=0\n",
    "n=1\n",
    "for i in k:\n",
    "    i=int(i)\n",
    "    sum=sum+(i*n)\n",
    "    n=n+1\n",
    "print(sum)\n",
    "sum=(sum%11)\n",
    "if sum==0:\n",
    "    print(\"legal\")\n",
    "else:\n",
    "    print(\"illegal\")"
   ]
  },
  {
   "cell_type": "markdown",
   "metadata": {},
   "source": [
    "## find legal num r not modal 2"
   ]
  },
  {
   "cell_type": "code",
   "execution_count": 2,
   "metadata": {},
   "outputs": [
    {
     "name": "stdout",
     "output_type": "stream",
     "text": [
      " enter the ISBN no 3456789012\n",
      "Illegal ISBN No\n"
     ]
    }
   ],
   "source": [
    "n=input(\" enter the ISBN no \")\n",
    "m=len(n)\n",
    "a=0\n",
    "j=1\n",
    "if m==10:\n",
    "    for i in n:\n",
    "            i=int(i)\n",
    "            a=a+(i*j)\n",
    "            j=j+1\n",
    "else:\n",
    "    print(\"Illegal ISBN No\")\n",
    "if a%11==0:\n",
    "    print(\"Legal ISBN no\")\n",
    "else:\n",
    "    print(\"Illegal ISBN No\")"
   ]
  },
  {
   "cell_type": "code",
   "execution_count": null,
   "metadata": {},
   "outputs": [],
   "source": []
  },
  {
   "cell_type": "code",
   "execution_count": null,
   "metadata": {},
   "outputs": [],
   "source": []
  }
 ],
 "metadata": {
  "kernelspec": {
   "display_name": "Python 3",
   "language": "python",
   "name": "python3"
  },
  "language_info": {
   "codemirror_mode": {
    "name": "ipython",
    "version": 3
   },
   "file_extension": ".py",
   "mimetype": "text/x-python",
   "name": "python",
   "nbconvert_exporter": "python",
   "pygments_lexer": "ipython3",
   "version": "3.7.3"
  }
 },
 "nbformat": 4,
 "nbformat_minor": 2
}
