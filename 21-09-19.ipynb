{
 "cells": [
  {
   "cell_type": "markdown",
   "metadata": {},
   "source": [
    "## lines,words& characters"
   ]
  },
  {
   "cell_type": "code",
   "execution_count": 6,
   "metadata": {},
   "outputs": [
    {
     "name": "stdout",
     "output_type": "stream",
     "text": [
      "Im khit student\n",
      "good\n",
      "royal civil\n"
     ]
    }
   ],
   "source": [
    "filePath=\"./files/VMG.txt\"\n",
    "with open(filePath,'r') as f:\n",
    "    print(f.read())"
   ]
  },
  {
   "cell_type": "code",
   "execution_count": 8,
   "metadata": {},
   "outputs": [
    {
     "name": "stdout",
     "output_type": "stream",
     "text": [
      "Im khit student\n",
      "\n"
     ]
    }
   ],
   "source": [
    "filePath=\"./files/VMG.txt\"\n",
    "with open(filePath,'r') as f:\n",
    "    lines=f.readline()\n",
    "    print(lines)"
   ]
  },
  {
   "cell_type": "code",
   "execution_count": 10,
   "metadata": {},
   "outputs": [
    {
     "ename": "SyntaxError",
     "evalue": "invalid syntax (<ipython-input-10-c66d5d8f1e1e>, line 2)",
     "output_type": "error",
     "traceback": [
      "\u001b[1;36m  File \u001b[1;32m\"<ipython-input-10-c66d5d8f1e1e>\"\u001b[1;36m, line \u001b[1;32m2\u001b[0m\n\u001b[1;33m    open(filePath,'r') as f:\u001b[0m\n\u001b[1;37m                        ^\u001b[0m\n\u001b[1;31mSyntaxError\u001b[0m\u001b[1;31m:\u001b[0m invalid syntax\n"
     ]
    }
   ],
   "source": [
    "filePath=\"./files/VMG.txt\"\n",
    "open(filePath,'r') as f:\n",
    "    lines=f.read()\n",
    "    print(lines)\n",
    "    "
   ]
  },
  {
   "cell_type": "code",
   "execution_count": 1,
   "metadata": {},
   "outputs": [
    {
     "data": {
      "text/plain": [
       "6"
      ]
     },
     "execution_count": 1,
     "metadata": {},
     "output_type": "execute_result"
    }
   ],
   "source": [
    "filePath=\"./files/test.txt\"\n",
    "f=open(filePath,'w')\n",
    "f.write(\"mani gopal\")\n",
    "filePath=\"./files/test.txt\"\n",
    "f=open(filePath,'w')\n",
    "f.write(\"challa\")"
   ]
  },
  {
   "cell_type": "code",
   "execution_count": 3,
   "metadata": {},
   "outputs": [],
   "source": [
    "filePath=\"./files/test2.txt\"\n",
    "with open(filePath,'w') as f:\n",
    "    f.write(\"mani gopal\")\n",
    "filePath=\"./files/test3.txt\"\n",
    "with open(filePath,'w') as f:\n",
    "    f.write(\"challa\")"
   ]
  },
  {
   "cell_type": "markdown",
   "metadata": {},
   "source": [
    "## finding time interval"
   ]
  },
  {
   "cell_type": "code",
   "execution_count": 4,
   "metadata": {},
   "outputs": [
    {
     "ename": "SyntaxError",
     "evalue": "invalid syntax (<ipython-input-4-8aa138ff4aff>, line 4)",
     "output_type": "error",
     "traceback": [
      "\u001b[1;36m  File \u001b[1;32m\"<ipython-input-4-8aa138ff4aff>\"\u001b[1;36m, line \u001b[1;32m4\u001b[0m\n\u001b[1;33m    s=\u001b[0m\n\u001b[1;37m      ^\u001b[0m\n\u001b[1;31mSyntaxError\u001b[0m\u001b[1;31m:\u001b[0m invalid syntax\n"
     ]
    }
   ],
   "source": [
    "n=int(input(\"number of test cases\"))\n",
    "for i in range (0,n):\n",
    "    n=int(\"enter time [SH SM EH EM]\")\n",
    "    s="
   ]
  },
  {
   "cell_type": "code",
   "execution_count": null,
   "metadata": {},
   "outputs": [],
   "source": [
    "t=int(input(\"test case\"))\n",
    "for in range (t):\n",
    "    n=input().split()\n",
    "    sh=int(n[0])\n",
    "    sm=int(n[1])\n",
    "    eh=int(n[2])\n",
    "    em=int(n[3])\n",
    "    if ((eh and))\n"
   ]
  }
 ],
 "metadata": {
  "kernelspec": {
   "display_name": "Python 3",
   "language": "python",
   "name": "python3"
  },
  "language_info": {
   "codemirror_mode": {
    "name": "ipython",
    "version": 3
   },
   "file_extension": ".py",
   "mimetype": "text/x-python",
   "name": "python",
   "nbconvert_exporter": "python",
   "pygments_lexer": "ipython3",
   "version": "3.7.3"
  }
 },
 "nbformat": 4,
 "nbformat_minor": 2
}
